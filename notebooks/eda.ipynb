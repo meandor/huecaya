{
 "cells": [
  {
   "cell_type": "code",
   "execution_count": null,
   "id": "22a91f61-2926-4f9f-a5c1-aaef5d7e335e",
   "metadata": {},
   "outputs": [],
   "source": [
    "import pandas as pd\n",
    "import seaborn as sns\n",
    "import numpy as np\n",
    "import matplotlib.pyplot as plt\n",
    "\n",
    "pd.set_option('display.max_colwidth', None)"
   ]
  },
  {
   "cell_type": "markdown",
   "id": "ce3aef4c-a4a3-4595-93c9-e3e97528de31",
   "metadata": {},
   "source": [
    "## Loading Raw Dataset"
   ]
  },
  {
   "cell_type": "code",
   "execution_count": null,
   "id": "ecca0281-8935-464b-9284-3ce4f8366eaf",
   "metadata": {},
   "outputs": [],
   "source": [
    "with open(\"../datalake/raw_data.txt\", \"r\", encoding=\"UTF-8\") as fp:\n",
    "    lines = fp.readlines()\n",
    "    df = pd.DataFrame(lines, columns=[\"text\"])\n",
    "df[\"text\"] = df[\"text\"].str.strip()\n",
    "df"
   ]
  },
  {
   "cell_type": "markdown",
   "id": "725f0116-0fa5-4c04-a859-7a82dfaee8e0",
   "metadata": {},
   "source": [
    "## Removing empty rows"
   ]
  },
  {
   "cell_type": "code",
   "execution_count": null,
   "id": "451b69cb-4fe6-4be3-ad8e-679d159a1c43",
   "metadata": {},
   "outputs": [],
   "source": [
    "df_without_empty_strings = df.copy()\n",
    "df_without_empty_strings.dropna()\n",
    "df_without_empty_strings = df_without_empty_strings[df_without_empty_strings[\"text\"] != \"\\\"\\\"\"]\n",
    "df_without_empty_strings = df_without_empty_strings[df_without_empty_strings[\"text\"] != \"\"]\n",
    "df_without_empty_strings"
   ]
  },
  {
   "cell_type": "code",
   "execution_count": null,
   "id": "5fb3ea06-c6c2-4588-bf7d-95539e1f95f5",
   "metadata": {},
   "outputs": [],
   "source": [
    "len(df) - len(df_without_empty_strings)"
   ]
  },
  {
   "cell_type": "markdown",
   "id": "289be7ff-9c39-480c-8c76-2d48133e6aa7",
   "metadata": {},
   "source": [
    "### Info about dataset without empty rows"
   ]
  },
  {
   "cell_type": "code",
   "execution_count": null,
   "id": "61737f52-7d54-4bf1-838d-bf81e16f7d3b",
   "metadata": {},
   "outputs": [],
   "source": [
    "df_without_empty_strings.info()"
   ]
  },
  {
   "cell_type": "code",
   "execution_count": null,
   "id": "8bab7a56-33fa-4d00-916e-133bae97ee3c",
   "metadata": {},
   "outputs": [],
   "source": [
    "df_without_empty_strings.head()"
   ]
  },
  {
   "cell_type": "markdown",
   "id": "f7757b2e-351d-4e0c-b09d-b944089faabc",
   "metadata": {},
   "source": [
    "## Removing duplicates from the data"
   ]
  },
  {
   "cell_type": "code",
   "execution_count": null,
   "id": "18dd07ad-7092-4102-8644-539dbfd200e9",
   "metadata": {},
   "outputs": [],
   "source": [
    "df_without_empty_strings[df_without_empty_strings[\"text\"].str.contains(\"---\")]"
   ]
  },
  {
   "cell_type": "code",
   "execution_count": null,
   "id": "5699fbc4-63a2-439c-b624-2b3103e765be",
   "metadata": {},
   "outputs": [],
   "source": [
    "df_without_duplicates = df_without_empty_strings.drop_duplicates().copy()\n",
    "df_without_duplicates[\"length\"] = df_without_duplicates[\"text\"].map(str.strip).map(lambda x: len(x.split()))\n",
    "df_without_duplicates"
   ]
  },
  {
   "cell_type": "markdown",
   "id": "e66b23b6-3ae3-4a83-8829-927f8434dbe4",
   "metadata": {},
   "source": [
    "### Number of deleted duplicates"
   ]
  },
  {
   "cell_type": "code",
   "execution_count": null,
   "id": "37746931-752a-4910-b567-b18a97ba2e08",
   "metadata": {},
   "outputs": [],
   "source": [
    "len(df) - len(df_without_duplicates)"
   ]
  },
  {
   "cell_type": "markdown",
   "id": "8ddbc377-7f68-4bf4-83e4-01442f0ad927",
   "metadata": {},
   "source": [
    "### Info about dataset without duplicates"
   ]
  },
  {
   "cell_type": "code",
   "execution_count": null,
   "id": "ba8ba861-f076-4af0-b678-2deaf1ab96de",
   "metadata": {},
   "outputs": [],
   "source": [
    "(len(df) - len(df_without_duplicates))/len(df)"
   ]
  },
  {
   "cell_type": "code",
   "execution_count": null,
   "id": "3faa79e2-dc58-43f8-ad7f-d971aa0f16ba",
   "metadata": {},
   "outputs": [],
   "source": [
    "df_without_duplicates.describe()"
   ]
  },
  {
   "cell_type": "code",
   "execution_count": null,
   "id": "53231fe2-59bf-4244-bac6-982023b024a9",
   "metadata": {},
   "outputs": [],
   "source": [
    "df_without_duplicates.idxmax()"
   ]
  },
  {
   "cell_type": "code",
   "execution_count": null,
   "id": "ae19798c-a66f-42aa-9add-2a15fec8a2bb",
   "metadata": {},
   "outputs": [],
   "source": [
    "df_without_duplicates.loc[444185]"
   ]
  },
  {
   "cell_type": "code",
   "execution_count": null,
   "id": "b15dc46e-afcf-49d7-bba2-fc05d4a759d3",
   "metadata": {},
   "outputs": [],
   "source": [
    "df_without_duplicates.loc[65505]"
   ]
  },
  {
   "cell_type": "markdown",
   "id": "4de53328-b79b-43cd-af98-ac0fe5137fb5",
   "metadata": {},
   "source": [
    "### Distribution"
   ]
  },
  {
   "cell_type": "code",
   "execution_count": null,
   "id": "645b148b-837c-46dd-acff-50d17c9e1f60",
   "metadata": {},
   "outputs": [],
   "source": [
    "bins = np.histogram_bin_edges(df_without_duplicates['length'], bins=10)\n",
    "bins"
   ]
  },
  {
   "cell_type": "code",
   "execution_count": null,
   "id": "431017e4-66e7-4902-817a-0dab42cf6ae9",
   "metadata": {},
   "outputs": [],
   "source": [
    "sns.histplot(data=df_without_duplicates, x=\"length\", bins=bins)\n",
    "plt.savefig(\"histogram_with_outlier.svg\", format='svg', bbox_inches=\"tight\")"
   ]
  },
  {
   "cell_type": "code",
   "execution_count": null,
   "id": "8bb871c0-6549-422b-aed6-11b5270d720b",
   "metadata": {},
   "outputs": [],
   "source": [
    "sns.histplot(data=df_without_duplicates[df_without_duplicates[\"length\"] <= 60], x=\"length\", bins=60)\n",
    "plt.savefig(\"histogram_first_bin.svg\", format='svg', bbox_inches=\"tight\")"
   ]
  },
  {
   "cell_type": "code",
   "execution_count": null,
   "id": "a3525348-eec0-4010-a5ff-01229b7cdab9",
   "metadata": {},
   "outputs": [],
   "source": [
    "df_with_7 = df_without_duplicates[df_without_duplicates[\"length\"] <= 7]\n",
    "df_with_7"
   ]
  },
  {
   "cell_type": "code",
   "execution_count": null,
   "id": "9b7e6973-5706-46c1-9f55-574d125ae88c",
   "metadata": {},
   "outputs": [],
   "source": [
    "df_with_7[df_with_7[\"text\"].str.contains(\"Dr\\.\")]"
   ]
  },
  {
   "cell_type": "code",
   "execution_count": null,
   "id": "981ca8d5-30d0-4371-badd-562cc38a25e2",
   "metadata": {},
   "outputs": [],
   "source": [
    "df_without_7 = df_without_duplicates[df_without_duplicates[\"length\"] > 7]\n",
    "df_without_7"
   ]
  },
  {
   "cell_type": "code",
   "execution_count": null,
   "id": "42d3b651-c318-4014-a75b-fcf9b00b8da2",
   "metadata": {},
   "outputs": [],
   "source": [
    "df_without_7[df_without_7[\"text\"].str.contains(\"Dr\\.\")]"
   ]
  },
  {
   "cell_type": "code",
   "execution_count": null,
   "id": "6e1de24a-b8da-4fce-be2e-28483e0a9494",
   "metadata": {},
   "outputs": [],
   "source": [
    "df_without_20 = df_without_duplicates[df_without_duplicates[\"length\"] > 20]\n",
    "df_without_20[df_without_20[\"text\"].str.contains(\"Dr\\.\")]"
   ]
  },
  {
   "cell_type": "code",
   "execution_count": null,
   "id": "8ff79647-3898-490b-9d5c-7396526ff98c",
   "metadata": {},
   "outputs": [],
   "source": [
    "sns.histplot(data=df_without_7, x=\"length\", bins=40)\n",
    "plt.savefig(\"histogram_without_outlier.svg\", format='svg', bbox_inches=\"tight\")"
   ]
  },
  {
   "cell_type": "code",
   "execution_count": null,
   "id": "1c12970e-33c3-4e96-996a-32ce638ab1f6",
   "metadata": {},
   "outputs": [],
   "source": [
    "df_without_7.describe()"
   ]
  },
  {
   "cell_type": "code",
   "execution_count": null,
   "id": "3325b9bc-7c23-45da-8b74-fd2fd9005595",
   "metadata": {},
   "outputs": [],
   "source": [
    "bins_without_7 = np.histogram_bin_edges(df_without_7['length'], bins=40)\n",
    "bins_without_7"
   ]
  },
  {
   "cell_type": "code",
   "execution_count": null,
   "id": "154a2163-e69d-41b8-8d14-55ed3492039a",
   "metadata": {},
   "outputs": [],
   "source": [
    "len(df_without_7)/len(df)"
   ]
  },
  {
   "cell_type": "code",
   "execution_count": null,
   "id": "067c4ecc-0fa3-4a9f-927a-af5f25b2feae",
   "metadata": {},
   "outputs": [],
   "source": [
    "test_data = df_without_7[:700].copy()\n",
    "test_data[\"labels\"] = \"\"\n",
    "test_data.to_csv(\"../datalake/test.csv\")"
   ]
  },
  {
   "cell_type": "code",
   "execution_count": null,
   "id": "de33faa4-2ac3-4b49-992a-9a39d5efb65f",
   "metadata": {},
   "outputs": [],
   "source": []
  }
 ],
 "metadata": {
  "kernelspec": {
   "display_name": "Python 3 (ipykernel)",
   "language": "python",
   "name": "python3"
  },
  "language_info": {
   "codemirror_mode": {
    "name": "ipython",
    "version": 3
   },
   "file_extension": ".py",
   "mimetype": "text/x-python",
   "name": "python",
   "nbconvert_exporter": "python",
   "pygments_lexer": "ipython3",
   "version": "3.9.18"
  }
 },
 "nbformat": 4,
 "nbformat_minor": 5
}
